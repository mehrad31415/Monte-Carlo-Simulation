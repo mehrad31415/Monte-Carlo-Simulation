{
 "cells": [
  {
   "cell_type": "code",
   "execution_count": 9,
   "id": "3bcac7a2",
   "metadata": {},
   "outputs": [],
   "source": [
    "import numpy as np \n",
    "Pcat1=0.1 \n",
    "Pcat2=1-Pcat1 \n",
    "Ps=0.05\n",
    "Pt=0.001\n",
    "Pp=1-Ps-Pt\n",
    "prop_prob1=0.99\n",
    "prop_prob2=0.90\n",
    "dic={}\n",
    "for i in range (1,11): \n",
    "    ethylene=0\n",
    "    olefin=0\n",
    "    #print (\"Select Catalyst\") \n",
    "    np.random.seed() \n",
    "    R=float(np.random.random(1)) \n",
    "    if R <= Pcat1:\n",
    "        #print (\"Catalyst 1\") \n",
    "        #print (\"Select 1st unit\") \n",
    "        if R <= prop_prob1:\n",
    "            #print (\"ethylene is added\")\n",
    "            ethylene+=1 \n",
    "        else:\n",
    "            #print (\"1-olefin is added\")\n",
    "            olefin+=1\n",
    "        n=1\n",
    "    else:\n",
    "        #print (\"Catalyst 2\") \n",
    "        #print (\"Select 1st unit\") \n",
    "        if R <= prop_prob2:\n",
    "            #print (\"ethylene is added\")\n",
    "            ethylene+=1 \n",
    "        else:\n",
    "            #print (\"1-olefin is added\")\n",
    "            olefin+=1\n",
    "        n=2\n",
    "    continue_process=True\n",
    "    while continue_process: \n",
    "        np.random.seed() \n",
    "        R=float(np.random.random(1)) \n",
    "        while n==1:\n",
    "            if R <= Pp:\n",
    "                #print (\"propagation\") \n",
    "                np.random.seed() \n",
    "                R=float(np.random.random(1)) \n",
    "                if R <= prop_prob1:\n",
    "                    #print (\"ethylene is added\")\n",
    "                    ethylene+=1 \n",
    "                else:\n",
    "                    #print (\"1-olefin is added\")\n",
    "                    olefin+=1 \n",
    "            elif R <= Pp + Ps:\n",
    "                #print (\"Transfer via CSA\")\n",
    "                np.random.seed() \n",
    "                R=float(np.random.random(1)) \n",
    "                if R <= Pcat1:\n",
    "                    #print (\"Catalyst 1\")\n",
    "                    continue \n",
    "                else:\n",
    "                    #print (\"Catalyst 2\")\n",
    "                    n=2 \n",
    "            else:\n",
    "                #print (\"Termination\")\n",
    "                continue_process=False\n",
    "                break \n",
    "        while n==2:\n",
    "            if R <= Pp:\n",
    "                #print (\"propagation\") \n",
    "                np.random.seed() \n",
    "                R=float(np.random.random(1)) \n",
    "                if R <= prop_prob2:\n",
    "                    #print (\"ethylene is added\")\n",
    "                    ethylene+=1 \n",
    "                else:\n",
    "                    #print (\"1-olefin is added\")\n",
    "                    olefin+=1 \n",
    "            elif R <= Pp + Ps:\n",
    "                #print (\"Transfer via CSA\")\n",
    "                np.random.seed() \n",
    "                R=float(np.random.random(1)) \n",
    "                if R <= Pcat2:\n",
    "                    #print (\"Catalyst 1\")\n",
    "                    n=1 \n",
    "                else:                 \n",
    "                    #print (\"Catalyst 2\")\n",
    "                    continue \n",
    "            else:\n",
    "                #print (\"Termination\")\n",
    "                continue_process=False\n",
    "                break\n",
    "    #print (\"save chain microstructure\") \n",
    "    #print (ethylene, olefin) \n",
    "    dic[i]=(ethylene, olefin)"
   ]
  },
  {
   "cell_type": "code",
   "execution_count": 10,
   "id": "ea7ed4de",
   "metadata": {},
   "outputs": [
    {
     "name": "stdout",
     "output_type": "stream",
     "text": [
      "{1: (229, 16), 2: (19, 3), 3: (729, 30), 4: (1168, 67), 5: (716, 38), 6: (783, 39), 7: (372, 20), 8: (1519, 96), 9: (194, 15), 10: (425, 25)}\n"
     ]
    }
   ],
   "source": [
    "print (dic)"
   ]
  },
  {
   "cell_type": "code",
   "execution_count": 12,
   "id": "ea79ac29",
   "metadata": {},
   "outputs": [],
   "source": [
    " #weight=ethylene * 28.05 + olefin * 168.32\n",
    "dic_weight={}\n",
    "for i in dic:\n",
    "    dic_weight[dic[i][0]+dic[i][1]]= dic[i][0] * 28.05 + dic[i][1] * 168.32"
   ]
  },
  {
   "cell_type": "code",
   "execution_count": 13,
   "id": "9fe4a7ad",
   "metadata": {},
   "outputs": [
    {
     "name": "stdout",
     "output_type": "stream",
     "text": [
      "{245: 9116.57, 22: 1037.91, 759: 25498.05, 1235: 44039.84, 754: 26479.96, 822: 28527.63, 392: 13801.0, 1615: 58766.670000000006, 209: 7966.5, 450: 16129.25}\n"
     ]
    }
   ],
   "source": [
    "print (dic_weight)"
   ]
  }
 ],
 "metadata": {
  "kernelspec": {
   "display_name": "Python 3 (ipykernel)",
   "language": "python",
   "name": "python3"
  },
  "language_info": {
   "codemirror_mode": {
    "name": "ipython",
    "version": 3
   },
   "file_extension": ".py",
   "mimetype": "text/x-python",
   "name": "python",
   "nbconvert_exporter": "python",
   "pygments_lexer": "ipython3",
   "version": "3.9.7"
  }
 },
 "nbformat": 4,
 "nbformat_minor": 5
}
